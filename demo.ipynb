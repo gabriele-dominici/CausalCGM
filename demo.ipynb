{
 "cells": [
  {
   "cell_type": "code",
   "execution_count": 1,
   "metadata": {},
   "outputs": [
    {
     "name": "stderr",
     "output_type": "stream",
     "text": [
      "/Users/gabri/Desktop/USI/PhD/GitHub/CausalCGM/.venv/lib/python3.12/site-packages/tqdm/auto.py:21: TqdmWarning: IProgress not found. Please update jupyter and ipywidgets. See https://ipywidgets.readthedocs.io/en/stable/user_install.html\n",
      "  from .autonotebook import tqdm as notebook_tqdm\n"
     ]
    }
   ],
   "source": [
    "import seaborn as sns\n",
    "from matplotlib import pyplot as plt\n",
    "from pytorch_lightning import Trainer, seed_everything\n",
    "from sklearn.metrics import accuracy_score\n",
    "from torch.utils.data import TensorDataset, DataLoader\n",
    "from causalcgm.utils import cace_score, interventions_from_root, compute_pns_matrix, conditional_entropy_dag\n",
    "import numpy as np\n",
    "import os\n",
    "from causalcgm.causalcgm import CausalCGM\n",
    "from causalcgm.baselines import CBM, CEM, StandardE2E\n",
    "import pytorch_lightning as pl\n",
    "from causalcgm.dataloader import load_preprocessed_data\n",
    "import torch"
   ]
  },
  {
   "cell_type": "code",
   "execution_count": 2,
   "metadata": {},
   "outputs": [
    {
     "name": "stderr",
     "output_type": "stream",
     "text": [
      "Seed set to 0\n"
     ]
    }
   ],
   "source": [
    "os.environ['CUDA_VISIBLE_DEVICES'] = ''\n",
    "seed_everything(0)\n",
    "\n",
    "# Hyperparameters\n",
    "embedding_size = 8\n",
    "ce_size = 5\n",
    "gamma = 1\n",
    "results_dir = './results/dsprites'\n",
    "index_perturb = 3\n",
    "index_block = 1\n",
    "lambda_cace_2 = 0.05\n",
    "os.makedirs(results_dir, exist_ok=True)"
   ]
  },
  {
   "cell_type": "code",
   "execution_count": 3,
   "metadata": {},
   "outputs": [],
   "source": [
    "# Load dataset\n",
    "(x_train, c_train, y_train, \n",
    " x_test, c_test, y_test, \n",
    " dag_init, to_check, label_names)  = load_preprocessed_data(base_dir='./datasets/dsprites')\n",
    "n = x_train.shape[0]\n",
    "x_val = x_train[-int(n*0.2):]\n",
    "c_val = c_train[-int(n*0.2):]\n",
    "y_val = y_train[-int(n*0.2):]\n",
    "x_train = x_train[:int(n*0.8)]\n",
    "c_train = c_train[:int(n*0.8)]\n",
    "y_train = y_train[:int(n*0.8)]\n",
    "n_concepts = c_train.shape[1]\n",
    "n_classes = y_train.shape[1]\n",
    "s_train = torch.cat((c_train, y_train), dim=1)\n",
    "s_val = torch.cat((c_val, y_val), dim=1)\n",
    "s_test = torch.cat((c_test, y_test), dim=1)\n",
    "train_loader = DataLoader(TensorDataset(x_train, s_train), batch_size=128, shuffle=True)\n",
    "train_loader_cbm = DataLoader(TensorDataset(x_train, c_train, y_train), batch_size=128, shuffle=True)\n",
    "val_loader = DataLoader(TensorDataset(x_val, s_val), batch_size=128, shuffle=False)\n",
    "val_loader_cbm = DataLoader(TensorDataset(x_val, c_val, y_val), batch_size=128, shuffle=False)\n",
    "test_loader = DataLoader(TensorDataset(x_test, s_test), batch_size=128, shuffle=False)\n",
    "test_loader_cbm = DataLoader(TensorDataset(x_test, c_test, y_test), batch_size=128, shuffle=False)\n",
    "\n",
    "# Other variables useful for model initialization\n",
    "n_symbols = s_train.shape[1]\n",
    "n_concepts = c_train.shape[1]\n",
    "n_classes = y_train.shape[1]\n",
    "tp_size = n_concepts*ce_size\n",
    "    "
   ]
  },
  {
   "cell_type": "code",
   "execution_count": 4,
   "metadata": {},
   "outputs": [],
   "source": [
    "model = CausalCGM(x_train.shape[1], embedding_size, n_concepts, n_classes, ce_size, gamma, 0, lambda_cace_2, probabilistic=False)"
   ]
  },
  {
   "cell_type": "code",
   "execution_count": 5,
   "metadata": {},
   "outputs": [],
   "source": [
    "# Fix the graph structure\n",
    "fix_graph = True\n",
    "if fix_graph:\n",
    "    model.concept_embedder.eq_model.fc1.weight = torch.nn.Parameter(dag_init, requires_grad=False)\n",
    "    model.concept_embedder.eq_model.edges_to_check = to_check\n",
    "else:\n",
    "    cov = conditional_entropy_dag(s_train)\n",
    "    cov = torch.tensor(cov).float()\n",
    "    cov[-1, :] = 0\n",
    "    cov = torch.clamp((cov / cov.mean()), 0, 0.99)\n",
    "    model.concept_embedder.eq_model.fc1.weight = torch.nn.Parameter(cov, requires_grad=True)\n"
   ]
  },
  {
   "cell_type": "code",
   "execution_count": 7,
   "metadata": {},
   "outputs": [
    {
     "name": "stderr",
     "output_type": "stream",
     "text": [
      "GPU available: True (mps), used: False\n",
      "TPU available: False, using: 0 TPU cores\n",
      "IPU available: False, using: 0 IPUs\n",
      "HPU available: False, using: 0 HPUs\n",
      "/Users/gabri/Desktop/USI/PhD/GitHub/CausalCGM/.venv/lib/python3.12/site-packages/pytorch_lightning/trainer/setup.py:187: GPU available but not used. You can set it by doing `Trainer(accelerator='gpu')`.\n",
      "Missing logger folder: /Users/gabri/Desktop/USI/PhD/GitHub/CausalCGM/lightning_logs\n",
      "\n",
      "  | Name             | Type                    | Params\n",
      "-------------------------------------------------------------\n",
      "0 | encoder          | Sequential              | 4.2 K \n",
      "1 | concept_embedder | CausalConceptGraphLayer | 4.6 K \n",
      "2 | loss             | BCELoss                 | 0     \n",
      "3 | mse_loss         | MSELoss                 | 0     \n",
      "-------------------------------------------------------------\n",
      "8.8 K     Trainable params\n",
      "36        Non-trainable params\n",
      "8.8 K     Total params\n",
      "0.035     Total estimated model params size (MB)\n"
     ]
    },
    {
     "name": "stdout",
     "output_type": "stream",
     "text": [
      "                                                                            "
     ]
    },
    {
     "name": "stderr",
     "output_type": "stream",
     "text": [
      "/Users/gabri/Desktop/USI/PhD/GitHub/CausalCGM/.venv/lib/python3.12/site-packages/pytorch_lightning/trainer/connectors/data_connector.py:441: The 'val_dataloader' does not have many workers which may be a bottleneck. Consider increasing the value of the `num_workers` argument` to `num_workers=13` in the `DataLoader` to improve performance.\n",
      "/Users/gabri/Desktop/USI/PhD/GitHub/CausalCGM/.venv/lib/python3.12/site-packages/pytorch_lightning/trainer/connectors/data_connector.py:441: The 'train_dataloader' does not have many workers which may be a bottleneck. Consider increasing the value of the `num_workers` argument` to `num_workers=13` in the `DataLoader` to improve performance.\n",
      "/Users/gabri/Desktop/USI/PhD/GitHub/CausalCGM/.venv/lib/python3.12/site-packages/pytorch_lightning/loops/fit_loop.py:293: The number of training batches (17) is smaller than the logging interval Trainer(log_every_n_steps=50). Set a lower value for log_every_n_steps if you want to see logs for the training epoch.\n"
     ]
    },
    {
     "name": "stdout",
     "output_type": "stream",
     "text": [
      "Epoch 199: 100%|██████████| 17/17 [00:00<00:00, 80.80it/s, v_num=0, val_loss=0.018, val_concept_accuracy=0.996, loss=0.506, dag=0.000, cace=0.557, c acc pri=1.000, c acc pos=0.138, y acc pri=1.000, y acc pos=1.000]  "
     ]
    },
    {
     "name": "stderr",
     "output_type": "stream",
     "text": [
      "`Trainer.fit` stopped: `max_epochs=200` reached.\n"
     ]
    },
    {
     "name": "stdout",
     "output_type": "stream",
     "text": [
      "Epoch 199: 100%|██████████| 17/17 [00:00<00:00, 80.09it/s, v_num=0, val_loss=0.018, val_concept_accuracy=0.996, loss=0.506, dag=0.000, cace=0.557, c acc pri=1.000, c acc pos=0.138, y acc pri=1.000, y acc pos=1.000]\n"
     ]
    }
   ],
   "source": [
    "# train the model\n",
    "checkpoint_callback = pl.callbacks.ModelCheckpoint(monitor=\"val_concept_accuracy\", mode=\"max\", save_weights_only=True)\n",
    "trainer = Trainer(max_epochs=200, accelerator='cpu', enable_checkpointing=True, callbacks=checkpoint_callback)\n",
    "trainer.fit(model, train_loader_cbm, val_loader_cbm)"
   ]
  },
  {
   "cell_type": "code",
   "execution_count": 8,
   "metadata": {},
   "outputs": [
    {
     "data": {
      "text/plain": [
       "CausalCGM(\n",
       "  (encoder): Sequential(\n",
       "    (0): Linear(in_features=512, out_features=8, bias=True)\n",
       "    (1): LeakyReLU(negative_slope=0.01)\n",
       "    (2): Linear(in_features=8, out_features=8, bias=True)\n",
       "    (3): LeakyReLU(negative_slope=0.01)\n",
       "    (4): Linear(in_features=8, out_features=8, bias=True)\n",
       "  )\n",
       "  (concept_embedder): CausalConceptGraphLayer(\n",
       "    (eq_model): CausalLayer(\n",
       "      (fc1): Linear(in_features=6, out_features=6, bias=False)\n",
       "      (fc2): ModuleList(\n",
       "        (0): Linear(in_features=8, out_features=16, bias=False)\n",
       "      )\n",
       "    )\n",
       "    (concept_context_generators): ModuleList(\n",
       "      (0-5): 6 x Sequential(\n",
       "        (0): Linear(in_features=8, out_features=16, bias=True)\n",
       "        (1): LeakyReLU(negative_slope=0.01)\n",
       "        (2): Linear(in_features=16, out_features=16, bias=True)\n",
       "        (3): LeakyReLU(negative_slope=0.01)\n",
       "      )\n",
       "    )\n",
       "    (concept_prob_predictor): ModuleList(\n",
       "      (0-5): 6 x Sequential(\n",
       "        (0): Linear(in_features=16, out_features=8, bias=True)\n",
       "        (1): LeakyReLU(negative_slope=0.01)\n",
       "        (2): Linear(in_features=8, out_features=1, bias=True)\n",
       "      )\n",
       "    )\n",
       "    (concept_prob_predictor_post): ModuleList(\n",
       "      (0-5): 6 x Sequential(\n",
       "        (0): Linear(in_features=16, out_features=8, bias=True)\n",
       "        (1): LeakyReLU(negative_slope=0.01)\n",
       "        (2): Linear(in_features=8, out_features=1, bias=True)\n",
       "      )\n",
       "    )\n",
       "    (reshaper): Sequential(\n",
       "      (0): Linear(in_features=16, out_features=8, bias=True)\n",
       "      (1): LeakyReLU(negative_slope=0.01)\n",
       "    )\n",
       "  )\n",
       "  (loss): BCELoss()\n",
       "  (mse_loss): MSELoss()\n",
       ")"
      ]
     },
     "execution_count": 8,
     "metadata": {},
     "output_type": "execute_result"
    }
   ],
   "source": [
    "# validate the model\n",
    "model.load_state_dict(torch.load(checkpoint_callback.best_model_path)['state_dict'])\n",
    "model.eval()"
   ]
  },
  {
   "cell_type": "code",
   "execution_count": 9,
   "metadata": {},
   "outputs": [
    {
     "data": {
      "image/png": "[encoded data removed]",
      "text/plain": [
       "<Figure size 400x400 with 2 Axes>"
      ]
     },
     "metadata": {},
     "output_type": "display_data"
    }
   ],
   "source": [
    "# show the DAG\n",
    "model.concept_embedder.compute_parent_indices()\n",
    "dag = model.concept_embedder.dag\n",
    "# dag = model.concept_embedder.eq_model.fc1_to_adj().detach().cpu().numpy()\n",
    "plt.figure(figsize=(4, 4))\n",
    "plt.title(f'dSprites DAG')\n",
    "dag_tmp = (dag > 0.01).astype(float)\n",
    "sns.heatmap(dag_tmp, xticklabels=label_names, yticklabels=label_names, cmap='coolwarm', cbar=True, vmin=0, vmax=1)\n",
    "plt.tight_layout()"
   ]
  },
  {
   "cell_type": "code",
   "execution_count": 10,
   "metadata": {},
   "outputs": [],
   "source": [
    "# ATTENTION HERE, you need to change the index_perturb and index_block according to the discovered graph (3 and 0 works for the ground truth DAG)\n",
    "# index_perturb = 3 # should be all parents of the index block\n",
    "# index_block = 0 # should be the index of the children of the index perturb and should be an ancestor of the label"
   ]
  },
  {
   "cell_type": "code",
   "execution_count": 11,
   "metadata": {},
   "outputs": [],
   "source": [
    "# data we need to test models\n",
    "c_test = s_test[:, :-1].clone()\n",
    "y_test = s_test[:, -1]\n",
    "s_fake_1 = s_test.clone()\n",
    "s_fake_0 = s_test.clone()\n",
    "s_fake_1[:, [index_perturb]] = 1\n",
    "s_fake_0[:, [index_perturb]] = 0\n",
    "c_fake_1 = s_fake_1[:, :-1]\n",
    "c_fake_0 = s_fake_0[:, :-1]\n",
    "s_perturb = s_test.clone()\n",
    "s_perturb[:, [index_perturb]] = 1 - s_test[:, [index_perturb]]\n",
    "c_perturb = s_perturb[:, :-1]"
   ]
  },
  {
   "cell_type": "code",
   "execution_count": 12,
   "metadata": {},
   "outputs": [],
   "source": [
    "# Causal Analysis - blocking dependencies\n",
    "emb = model.encoder(x_train)\n",
    "\n",
    "# compute standard accuracy\n",
    "# do interventions without blocking\n",
    "s_pred_c1 = model.forward(x_test, c=s_fake_1, intervention_idxs=[index_perturb])\n",
    "s_pred_c0 = model.forward(x_test, c=s_fake_0, intervention_idxs=[index_perturb])\n",
    "\n",
    "# do interventions with blocking\n",
    "s_pred_c1_block = model.forward(x_test, c=s_fake_1, intervention_idxs=[index_perturb, index_block])\n",
    "s_pred_c0_block = model.forward(x_test, c=s_fake_0, intervention_idxs=[index_perturb, index_block])\n",
    "\n",
    "# do perturbation without blocking\n",
    "s_pred_perturb = model.forward(x_test, c=s_perturb, intervention_idxs=[index_perturb])\n",
    "\n",
    "# do perturbation with blocking\n",
    "s_pred_perturb_block = model.forward(x_test, c=s_perturb, intervention_idxs=[index_perturb, index_block])\n",
    "\n",
    "\n",
    "s_pred = model.forward(x_test)"
   ]
  },
  {
   "cell_type": "code",
   "execution_count": 13,
   "metadata": {},
   "outputs": [],
   "source": [
    "# Causal Analysis - PNS\n",
    "PNS = compute_pns_matrix(x_test, model, dag)"
   ]
  },
  {
   "cell_type": "code",
   "execution_count": 14,
   "metadata": {},
   "outputs": [],
   "source": [
    "# interventions\n",
    "acc_int = interventions_from_root(torch.tensor(dag), model, x_test, s_test, exclude=[n_concepts])"
   ]
  },
  {
   "cell_type": "code",
   "execution_count": 15,
   "metadata": {},
   "outputs": [
    {
     "data": {
      "text/plain": [
       "([0.019696969696969657,\n",
       "  0.040909090909090895,\n",
       "  0.13560606060606062,\n",
       "  0.12878787878787878],\n",
       " [0.5891414141414142,\n",
       "  0.6676767676767676,\n",
       "  0.7512626262626263,\n",
       "  0.8580808080808081,\n",
       "  0.907070707070707])"
      ]
     },
     "execution_count": 15,
     "metadata": {},
     "output_type": "execute_result"
    }
   ],
   "source": [
    "acc_int"
   ]
  },
  {
   "cell_type": "code",
   "execution_count": 16,
   "metadata": {},
   "outputs": [
    {
     "name": "stdout",
     "output_type": "stream",
     "text": [
      "Label accuracy: 0.9929292929292929\n",
      "CACE before blocking: 0.4382691979408264\n",
      "CACE after blocking: 0.0\n"
     ]
    }
   ],
   "source": [
    "# metrics\n",
    "s_accuracy = accuracy_score(s_test.ravel(), s_pred.ravel() > 0.5)\n",
    "print(f'Label accuracy: {s_accuracy}')\n",
    "\n",
    "cace = cace_score(s_pred_c1[:, -1], s_pred_c0[:, -1]).detach().item()\n",
    "cace_block = cace_score(s_pred_c1_block[:, -1], s_pred_c0_block[:, -1]).detach().item()\n",
    "print(f'CACE before blocking: {cace}')\n",
    "print(f'CACE after blocking: {cace_block}')"
   ]
  },
  {
   "cell_type": "code",
   "execution_count": null,
   "metadata": {},
   "outputs": [],
   "source": []
  },
  {
   "cell_type": "code",
   "execution_count": null,
   "metadata": {},
   "outputs": [],
   "source": []
  }
 ],
 "metadata": {
  "kernelspec": {
   "display_name": ".venv",
   "language": "python",
   "name": "python3"
  },
  "language_info": {
   "codemirror_mode": {
    "name": "ipython",
    "version": 3
   },
   "file_extension": ".py",
   "mimetype": "text/x-python",
   "name": "python",
   "nbconvert_exporter": "python",
   "pygments_lexer": "ipython3",
   "version": "3.12.4"
  }
 },
 "nbformat": 4,
 "nbformat_minor": 2
}
